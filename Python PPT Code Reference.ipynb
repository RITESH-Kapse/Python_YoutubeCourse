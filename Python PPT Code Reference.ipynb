{
 "cells": [
  {
   "cell_type": "markdown",
   "id": "7babdd53",
   "metadata": {},
   "source": [
    "#### Slide 6 -- Variable naming conventions"
   ]
  },
  {
   "cell_type": "code",
   "execution_count": 77,
   "id": "820b99f5",
   "metadata": {},
   "outputs": [
    {
     "name": "stdout",
     "output_type": "stream",
     "text": [
      "Area of mentioned traingle is  100.0\n"
     ]
    }
   ],
   "source": [
    "base = 10\n",
    "height = 20\n",
    "\n",
    "area = 1/2 * (base*height)\n",
    "\n",
    "print(\"Area of mentioned traingle is \", area)\n"
   ]
  },
  {
   "cell_type": "code",
   "execution_count": null,
   "id": "b6e8bcbd",
   "metadata": {},
   "outputs": [],
   "source": [
    "Reference :\n",
    "https://www.geeksforgeeks.org/python-operators/\n",
    "https://www.w3schools.com/python/python_operators.asp\n",
    "https://www.geeksforgeeks.org/python-bitwise-operators/"
   ]
  },
  {
   "cell_type": "code",
   "execution_count": null,
   "id": "45f8949e",
   "metadata": {},
   "outputs": [],
   "source": [
    "Topics :\n",
    "\n",
    "Datatypes\n",
    "Variables\n",
    "\n",
    "Arithmatic Operators\n",
    "Relational Operatiors\n",
    "Bitwise Operators\n",
    "Comments in python\n",
    "User input\n",
    "Mixed inputs\n"
   ]
  },
  {
   "cell_type": "code",
   "execution_count": 2,
   "id": "7fa11cbc",
   "metadata": {},
   "outputs": [
    {
     "name": "stdout",
     "output_type": "stream",
     "text": [
      "<class 'int'>\n"
     ]
    }
   ],
   "source": [
    "x = 5\n",
    "print(type(x))"
   ]
  },
  {
   "cell_type": "code",
   "execution_count": 1,
   "id": "7389e287",
   "metadata": {},
   "outputs": [
    {
     "name": "stdout",
     "output_type": "stream",
     "text": [
      "<class 'str'>\n"
     ]
    }
   ],
   "source": [
    "x = \"Hello World\"\n",
    "print(type(x))"
   ]
  },
  {
   "cell_type": "code",
   "execution_count": 3,
   "id": "d83dc405",
   "metadata": {},
   "outputs": [
    {
     "name": "stdout",
     "output_type": "stream",
     "text": [
      "<class 'float'>\n"
     ]
    }
   ],
   "source": [
    "x = 20.5\n",
    "print(type(x))"
   ]
  },
  {
   "cell_type": "code",
   "execution_count": 4,
   "id": "e1b1356a",
   "metadata": {},
   "outputs": [
    {
     "name": "stdout",
     "output_type": "stream",
     "text": [
      "13\n",
      "5\n",
      "36\n",
      "2.25\n",
      "2\n",
      "1\n",
      "6561\n"
     ]
    }
   ],
   "source": [
    "\n",
    "# Examples of Arithmetic Operator\n",
    "a = 9\n",
    "b = 4\n",
    "  \n",
    "# Addition of numbers\n",
    "add = a + b\n",
    "  \n",
    "# Subtraction of numbers\n",
    "sub = a - b\n",
    "  \n",
    "# Multiplication of number\n",
    "mul = a * b\n",
    "  \n",
    "# Division(float) of number\n",
    "div1 = a / b\n",
    "  \n",
    "# Division(floor) of number\n",
    "div2 = a // b\n",
    "  \n",
    "# Modulo of both number\n",
    "mod = a % b \n",
    "  \n",
    "# Power\n",
    "p = a ** b\n",
    "  \n",
    "# print results\n",
    "print(add)\n",
    "print(sub)\n",
    "print(mul)\n",
    "print(div1)\n",
    "print(div2)\n",
    "print(mod)\n",
    "print(p)"
   ]
  },
  {
   "cell_type": "code",
   "execution_count": 6,
   "id": "ef38a662",
   "metadata": {},
   "outputs": [
    {
     "name": "stdout",
     "output_type": "stream",
     "text": [
      "False\n",
      "True\n",
      "False\n",
      "True\n",
      "False\n",
      "True\n"
     ]
    }
   ],
   "source": [
    "\n",
    "# Examples of Relational Operators\n",
    "a = 13\n",
    "b = 33\n",
    "  \n",
    "# a > b is False\n",
    "print(a > b)\n",
    "  \n",
    "# a < b is True\n",
    "print(a < b)\n",
    "  \n",
    "# a == b is False\n",
    "print(a == b)\n",
    "  \n",
    "# a != b is True\n",
    "print(a != b)\n",
    "  \n",
    "# a >= b is False\n",
    "print(a >= b)\n",
    "  \n",
    "# a <= b is True\n",
    "print(a <= b)"
   ]
  },
  {
   "cell_type": "code",
   "execution_count": null,
   "id": "2814f2fa",
   "metadata": {},
   "outputs": [],
   "source": [
    "# Examples of Logical Operator\n",
    "a = True\n",
    "b = False\n",
    "  \n",
    "# Print a and b is False\n",
    "print(a and b)\n",
    "  \n",
    "# Print a or b is True\n",
    "print(a or b)\n",
    "  \n",
    "# Print not a is False\n",
    "print(not a)"
   ]
  },
  {
   "cell_type": "code",
   "execution_count": null,
   "id": "3d8214d2",
   "metadata": {},
   "outputs": [],
   "source": [
    "# Examples of Bitwise operators\n",
    "a = 10\n",
    "b = 4\n",
    "  \n",
    "# Print bitwise AND operation\n",
    "print(a & b)\n",
    "  \n",
    "# Print bitwise OR operation\n",
    "print(a | b)\n",
    "  \n",
    "# Print bitwise NOT operation\n",
    "print(~a)\n",
    "  \n",
    "# print bitwise XOR operation\n",
    "print(a ^ b)\n",
    "  \n",
    "# print bitwise right shift operation\n",
    "print(a >> 2)\n",
    "  \n",
    "# print bitwise left shift operation\n",
    "print(a << 2)\n",
    "\n",
    "\n",
    "'''\n",
    "a = 10 = 1010 (Binary)\n",
    "b = 4 =  0100 (Binary)\n",
    "\n",
    "a & b = 1010\n",
    "         &\n",
    "        0100\n",
    "      = 0000\n",
    "      = 0 (Decimal)\n",
    "\n",
    "'''"
   ]
  },
  {
   "cell_type": "code",
   "execution_count": null,
   "id": "3f5e90c5",
   "metadata": {},
   "outputs": [],
   "source": [
    "\n",
    "# Examples of Assignment Operators\n",
    "a = 10\n",
    "  \n",
    "# Assign value\n",
    "b = a\n",
    "print(b)\n",
    "  \n",
    "# Add and assign value\n",
    "b += a\n",
    "print(b)\n",
    "  \n",
    "# Subtract and assign value\n",
    "b -= a\n",
    "print(b)\n",
    "  \n",
    "# multiply and assign\n",
    "b *= a\n",
    "print(b)\n",
    "  \n",
    "# bitwise lishift operator\n",
    "b <<= a\n",
    "print(b)"
   ]
  },
  {
   "cell_type": "code",
   "execution_count": null,
   "id": "32a66e04",
   "metadata": {},
   "outputs": [],
   "source": [
    "#Identity Operator\n",
    "a = 10\n",
    "b = 20\n",
    "c = a\n",
    "  \n",
    "print(a is not b)\n",
    "print(a is c)"
   ]
  },
  {
   "cell_type": "code",
   "execution_count": 81,
   "id": "8f18bbc8",
   "metadata": {},
   "outputs": [
    {
     "name": "stdout",
     "output_type": "stream",
     "text": [
      "<class 'int'>\n"
     ]
    }
   ],
   "source": [
    "base = 10\n",
    "print(type(base))"
   ]
  },
  {
   "cell_type": "markdown",
   "id": "8a7ee4de",
   "metadata": {},
   "source": [
    "#### Slide 7 -- Numbers & Strings "
   ]
  },
  {
   "cell_type": "markdown",
   "id": "febb5a5e",
   "metadata": {},
   "source": [
    "Python as Calculator"
   ]
  },
  {
   "cell_type": "code",
   "execution_count": 5,
   "id": "fca5f5e7",
   "metadata": {},
   "outputs": [
    {
     "data": {
      "text/plain": [
       "46"
      ]
     },
     "execution_count": 5,
     "metadata": {},
     "output_type": "execute_result"
    }
   ],
   "source": [
    "#Addition\n",
    "12+34"
   ]
  },
  {
   "cell_type": "code",
   "execution_count": 79,
   "id": "7aa619cd",
   "metadata": {},
   "outputs": [
    {
     "data": {
      "text/plain": [
       "0.75"
      ]
     },
     "execution_count": 79,
     "metadata": {},
     "output_type": "execute_result"
    }
   ],
   "source": [
    "#division\n",
    "3/4"
   ]
  },
  {
   "cell_type": "code",
   "execution_count": 5,
   "id": "314928ae",
   "metadata": {},
   "outputs": [
    {
     "data": {
      "text/plain": [
       "1"
      ]
     },
     "execution_count": 5,
     "metadata": {},
     "output_type": "execute_result"
    }
   ],
   "source": [
    "#Floor Division\n",
    "4//3"
   ]
  },
  {
   "cell_type": "code",
   "execution_count": 82,
   "id": "9cf3d023",
   "metadata": {},
   "outputs": [
    {
     "data": {
      "text/plain": [
       "1"
      ]
     },
     "execution_count": 82,
     "metadata": {},
     "output_type": "execute_result"
    }
   ],
   "source": [
    "#Find reminder\n",
    "11%2"
   ]
  },
  {
   "cell_type": "code",
   "execution_count": 83,
   "id": "e16b78bd",
   "metadata": {},
   "outputs": [
    {
     "data": {
      "text/plain": [
       "9"
      ]
     },
     "execution_count": 83,
     "metadata": {},
     "output_type": "execute_result"
    }
   ],
   "source": [
    "#Find 3 to the power of 2.\n",
    "3**2"
   ]
  },
  {
   "cell_type": "markdown",
   "id": "2adee8a9",
   "metadata": {},
   "source": [
    "Strings"
   ]
  },
  {
   "cell_type": "code",
   "execution_count": 84,
   "id": "40cff6d0",
   "metadata": {},
   "outputs": [
    {
     "name": "stdout",
     "output_type": "stream",
     "text": [
      "python code\n"
     ]
    }
   ],
   "source": [
    "text = \"python code\"\n",
    "print(text)"
   ]
  },
  {
   "cell_type": "code",
   "execution_count": 85,
   "id": "841c1dd9",
   "metadata": {},
   "outputs": [
    {
     "name": "stdout",
     "output_type": "stream",
     "text": [
      "p\n",
      "c\n",
      "e\n"
     ]
    }
   ],
   "source": [
    "print(text[0])\n",
    "print(text[7])\n",
    "print(text[10])"
   ]
  },
  {
   "cell_type": "code",
   "execution_count": 86,
   "id": "e43ec897",
   "metadata": {},
   "outputs": [
    {
     "name": "stdout",
     "output_type": "stream",
     "text": [
      "pytho\n"
     ]
    }
   ],
   "source": [
    "# string slicing\n",
    "#range will be index 0 to index 4 (0 included ,5 excluded)\n",
    "\n",
    "print(text[0:5])"
   ]
  },
  {
   "cell_type": "code",
   "execution_count": 87,
   "id": "d95752fb",
   "metadata": {},
   "outputs": [
    {
     "name": "stdout",
     "output_type": "stream",
     "text": [
      "python code\n"
     ]
    }
   ],
   "source": [
    "# String concatination\n",
    "\n",
    "var1 =\"python\"\n",
    "var2 = \"code\"\n",
    "\n",
    "print(var1+' '+var2)"
   ]
  },
  {
   "cell_type": "code",
   "execution_count": 88,
   "id": "57f604e4",
   "metadata": {},
   "outputs": [
    {
     "name": "stdout",
     "output_type": "stream",
     "text": [
      "50\n",
      "Hello 50\n"
     ]
    }
   ],
   "source": [
    "# String and number addition\n",
    "# Use str() function to convert interger to string\n",
    "\n",
    "var1 = \"Hello\"\n",
    "var2 = 50\n",
    "\n",
    "print(str(var2))\n",
    "\n",
    "print(var1 + ' ' + str(var2))"
   ]
  },
  {
   "cell_type": "code",
   "execution_count": 89,
   "id": "8960bc3a",
   "metadata": {},
   "outputs": [
    {
     "ename": "TypeError",
     "evalue": "'str' object does not support item assignment",
     "output_type": "error",
     "traceback": [
      "\u001b[1;31m---------------------------------------------------------------------------\u001b[0m",
      "\u001b[1;31mTypeError\u001b[0m                                 Traceback (most recent call last)",
      "\u001b[1;32m<ipython-input-89-4289cbcbd768>\u001b[0m in \u001b[0;36m<module>\u001b[1;34m\u001b[0m\n\u001b[0;32m      1\u001b[0m \u001b[0mvar1\u001b[0m \u001b[1;33m=\u001b[0m \u001b[1;34m\"Hello\"\u001b[0m\u001b[1;33m\u001b[0m\u001b[1;33m\u001b[0m\u001b[0m\n\u001b[0;32m      2\u001b[0m \u001b[1;33m\u001b[0m\u001b[0m\n\u001b[1;32m----> 3\u001b[1;33m \u001b[0mvar1\u001b[0m\u001b[1;33m[\u001b[0m\u001b[1;36m2\u001b[0m\u001b[1;33m]\u001b[0m \u001b[1;33m=\u001b[0m \u001b[1;34m'r'\u001b[0m\u001b[1;33m\u001b[0m\u001b[1;33m\u001b[0m\u001b[0m\n\u001b[0m",
      "\u001b[1;31mTypeError\u001b[0m: 'str' object does not support item assignment"
     ]
    }
   ],
   "source": [
    "var1 = \"Hello\"\n",
    "\n",
    "var1[2] = 'r'"
   ]
  },
  {
   "cell_type": "markdown",
   "id": "99cc9e8b",
   "metadata": {},
   "source": [
    "#### Slide 8 -- Lists"
   ]
  },
  {
   "cell_type": "code",
   "execution_count": 90,
   "id": "3ec051f0",
   "metadata": {},
   "outputs": [
    {
     "name": "stdout",
     "output_type": "stream",
     "text": [
      "\n",
      "List containing multiple values: \n",
      "['Let', 'Training', 'Start']\n",
      "\n",
      "Multi-Dimensional List: \n",
      "[['Let', 'Training'], ['Start']]\n",
      "Accessing element from the list\n",
      "Let\n",
      "Start\n",
      "Accessing element using negative indexing\n",
      "Start\n",
      "Let\n"
     ]
    }
   ],
   "source": [
    "# Creating a List with the use of multiple values\n",
    "\n",
    "List = [\"Let\", \"Training\", \"Start\"]\n",
    "print(\"\\nList containing multiple values: \")\n",
    "print(List)\n",
    "\n",
    "# Creating a Multi-Dimensional List (By Nesting a list inside a List)\n",
    "List2 = [['Let', 'Training'], ['Start']]\n",
    "print(\"\\nMulti-Dimensional List: \")\n",
    "print(List2)\n",
    "\n",
    "# accessing a element from the list using index number\n",
    "print(\"Accessing element from the list\")\n",
    "print(List[0])\n",
    "print(List[2])\n",
    "\n",
    "# accessing a element using negative indexing\n",
    "print(\"Accessing element using negative indexing\")\n",
    "\n",
    "# print the last element of list\n",
    "print(List[-1])\n",
    "\n",
    "# print the third last element of list\n",
    "print(List[-3])\n"
   ]
  },
  {
   "cell_type": "code",
   "execution_count": 92,
   "id": "a9ef508b",
   "metadata": {},
   "outputs": [
    {
     "name": "stdout",
     "output_type": "stream",
     "text": [
      "['Let', 'Training', 'Start', 'extra']\n"
     ]
    }
   ],
   "source": [
    "#append method used to add element in the end of the list.\n",
    "List = [\"Let\", \"Training\", \"Start\"]\n",
    "\n",
    "List.append(\"extra\")\n",
    "print(List)"
   ]
  },
  {
   "cell_type": "code",
   "execution_count": 20,
   "id": "142bfbef",
   "metadata": {},
   "outputs": [
    {
     "name": "stdout",
     "output_type": "stream",
     "text": [
      "['Let', \"NCG's\", 'Training', 'Start', 'extra']\n"
     ]
    }
   ],
   "source": [
    "# insert method used to add element at desired location\n",
    "\n",
    "List.insert(1,\"NCG's\")\n",
    "print(List)"
   ]
  },
  {
   "cell_type": "code",
   "execution_count": 93,
   "id": "91a7d420",
   "metadata": {},
   "outputs": [
    {
     "name": "stdout",
     "output_type": "stream",
     "text": [
      "['a', 'b', 'c', 'p', 'q', 'r']\n"
     ]
    }
   ],
   "source": [
    "# List concatination\n",
    "# Can only cancatenate lists and not different variable types with lists.\n",
    "food = [\"a\",\"b\",\"c\"]\n",
    "water = [\"p\",\"q\",\"r\"]\n",
    "\n",
    "print(food + water)\n",
    "\n",
    "# Note : Refer all list methods here : https://www.programiz.com/python-programming/methods/list"
   ]
  },
  {
   "cell_type": "markdown",
   "id": "aa2601d9",
   "metadata": {},
   "source": [
    "#### Slide 9 -- Conditional Statements -- If/For/While Loops"
   ]
  },
  {
   "cell_type": "code",
   "execution_count": 22,
   "id": "ab91ff87",
   "metadata": {},
   "outputs": [
    {
     "name": "stdout",
     "output_type": "stream",
     "text": [
      "Enter the number: 25\n",
      "Number is odd\n"
     ]
    }
   ],
   "source": [
    "#If Loop\n",
    "\n",
    "# 1,2,3,4,5\n",
    "\n",
    "'''\n",
    "Problem Statement : Program to check number is even or odd.\n",
    "Note : input() function takes user input which can be used as input to the code.\n",
    "\n",
    "'''\n",
    "#Code : You can add breakpoint and check each step output.\n",
    "\n",
    "num = input(\"Enter the number: \") # It will take input from user as string .\n",
    "num = int(num) \n",
    "\n",
    "if num%2==0:\n",
    "    print(\"Number is even\")\n",
    "else:\n",
    "    print(\"Number is odd\")"
   ]
  },
  {
   "cell_type": "code",
   "execution_count": 95,
   "id": "705ca840",
   "metadata": {},
   "outputs": [
    {
     "name": "stdout",
     "output_type": "stream",
     "text": [
      "15020\n"
     ]
    }
   ],
   "source": [
    "#For Loop\n",
    "\n",
    "'''\n",
    "Problem statement :\n",
    "    Store Monthly Expenses in a list and \n",
    "    find out total expenses for all months.\n",
    "    \n",
    "'''\n",
    "exp = [2340, 3500, 2100, 4100, 2980]\n",
    "\n",
    "#Alternate Ways for total :\n",
    "#total = sum(exp) #using sum function.\n",
    "#total = exp[0] + exp[1] + exp[2] + exp[3] + exp[4] \n",
    "#for longer items in list, this is not good solution\n",
    "\n",
    "total = 0\n",
    "\n",
    "#using for loop\n",
    "for item in exp:\n",
    "    total = total + item\n",
    "\n",
    "print(total)"
   ]
  },
  {
   "cell_type": "code",
   "execution_count": 24,
   "id": "cbbb721b",
   "metadata": {},
   "outputs": [
    {
     "name": "stdout",
     "output_type": "stream",
     "text": [
      "1\n",
      "2\n",
      "3\n",
      "4\n",
      "5\n"
     ]
    }
   ],
   "source": [
    "#While loop\n",
    "\n",
    "i = 1\n",
    "\n",
    "while i <= 5:\n",
    "    print(i)\n",
    "    i=i+1"
   ]
  },
  {
   "cell_type": "markdown",
   "id": "a75e5e84",
   "metadata": {},
   "source": [
    "#### Slide 10 -- Break/Continue Statements"
   ]
  },
  {
   "cell_type": "code",
   "execution_count": 25,
   "id": "cdb4c76b",
   "metadata": {},
   "outputs": [
    {
     "name": "stdout",
     "output_type": "stream",
     "text": [
      "key is not found in  garage\n",
      "key is not found in  living room\n",
      "key is found in  chair\n"
     ]
    }
   ],
   "source": [
    "#Break Statement Example\n",
    "\n",
    "''' Problem Statement : \n",
    "    Check if key_location is present in house locations.\n",
    "    If found with key location, not required to check other \n",
    "    remaining locations. (Use Break statement).\n",
    "'''\n",
    "\n",
    "key_location = \"chair\"\n",
    "\n",
    "locations = [\"garage\", \"living room\", \"chair\", \"closet\"]\n",
    "\n",
    "for i in locations:\n",
    "    if i ==  key_location:\n",
    "        print(\"key is found in \", i)\n",
    "        break \n",
    "    else:\n",
    "        print(\"key is not found in \", i)"
   ]
  },
  {
   "cell_type": "code",
   "execution_count": 26,
   "id": "8fb5214f",
   "metadata": {},
   "outputs": [
    {
     "name": "stdout",
     "output_type": "stream",
     "text": [
      "1\n",
      "9\n",
      "25\n",
      "49\n"
     ]
    }
   ],
   "source": [
    "#Continue Statement Example\n",
    "\n",
    "'''\n",
    "Problem Statement :\n",
    "    Print the sqaure of numbers from 1 to 7 EXCEPT even numbers.\n",
    "'''\n",
    "for i in range(1,8):\n",
    "    if i%2==0:\n",
    "        continue  # here if i is even, it wont execute print statement \n",
    "                  # and will loop back to for loop.\n",
    "    print(i*i)"
   ]
  },
  {
   "cell_type": "markdown",
   "id": "86924d65",
   "metadata": {},
   "source": [
    "#### Slide 11/12 -- Functions"
   ]
  },
  {
   "cell_type": "code",
   "execution_count": 27,
   "id": "ddae1539",
   "metadata": {},
   "outputs": [
    {
     "name": "stdout",
     "output_type": "stream",
     "text": [
      " total of list1 is 116\n",
      " total of list2 is 167\n"
     ]
    }
   ],
   "source": [
    "#Normal Code : \n",
    "\n",
    "'''\n",
    "If there are multiple lists, and we need to find total of each list.\n",
    "We can use for loop multiple times and get the solution. \n",
    "But we are repeating code here.\n",
    "\n",
    "'''\n",
    "\n",
    "list1 = [2,4,6,88,8,8]\n",
    "list2 = [1,9,99,5,44,9]\n",
    "\n",
    "total = 0\n",
    "for i in list1:\n",
    "    total = total +i\n",
    "\n",
    "print( \" total of list1 is\" , total)\n",
    "\n",
    "total = 0\n",
    "for i in list2:\n",
    "    total = total +i\n",
    "\n",
    "print( \" total of list2 is\" , total)"
   ]
  },
  {
   "cell_type": "code",
   "execution_count": 97,
   "id": "e7a85aff",
   "metadata": {},
   "outputs": [
    {
     "name": "stdout",
     "output_type": "stream",
     "text": [
      "116\n",
      " total of list1 is  116\n",
      " total of list2 is  167\n"
     ]
    }
   ],
   "source": [
    "# Using functions\n",
    "# def is special keywors that tell python that we are creating function\n",
    "\n",
    "list1 = [2,4,6,88,8,8]\n",
    "list2 = [1,9,99,5,44,9]\n",
    "\n",
    "def calculate_total(inp):\n",
    "    total = 0\n",
    "    for item in inp:\n",
    "        total = total + item\n",
    "    return total\n",
    "\n",
    "#Here \"inp\" - function arguments , \"total\" -- return value\n",
    "\n",
    "list1_total = calculate_total(list1)\n",
    "list2_total = calculate_total(list2)\n",
    "\n",
    "print(list1_total)\n",
    "\n",
    "print(\" total of list1 is \", list1_total)\n",
    "print(\" total of list2 is \",list2_total)"
   ]
  },
  {
   "cell_type": "code",
   "execution_count": 98,
   "id": "56e167b4",
   "metadata": {},
   "outputs": [
    {
     "name": "stdout",
     "output_type": "stream",
     "text": [
      "a:  5\n",
      "b:  6\n",
      "11\n"
     ]
    }
   ],
   "source": [
    "# Positional Arguments \n",
    "def sum(a,b):\n",
    "    \n",
    "    print(\"a: \", a)\n",
    "    print(\"b: \", b)\n",
    "    \n",
    "    total = a+b\n",
    "    return total\n",
    "\n",
    "n = sum(5,6) # Here a=5 and b =6\n",
    "print(n)"
   ]
  },
  {
   "cell_type": "code",
   "execution_count": 99,
   "id": "60ebcd22",
   "metadata": {},
   "outputs": [
    {
     "name": "stdout",
     "output_type": "stream",
     "text": [
      "a:  6\n",
      "b:  5\n",
      "11\n"
     ]
    }
   ],
   "source": [
    "# Named Arguments\n",
    "def sum(a,b):\n",
    "\n",
    "    print(\"a: \", a)\n",
    "    print(\"b: \", b)\n",
    "    \n",
    "    total = a+b\n",
    "    return total\n",
    "\n",
    "n = sum(b=5,a=6) # Here b=5 and a=6\n",
    "print(n)"
   ]
  },
  {
   "cell_type": "code",
   "execution_count": 100,
   "id": "90c91201",
   "metadata": {},
   "outputs": [
    {
     "name": "stdout",
     "output_type": "stream",
     "text": [
      "a:  6\n",
      "b:  0\n",
      "6\n"
     ]
    }
   ],
   "source": [
    "#Default Arguments\n",
    "def sum(a,b=0):\n",
    "\n",
    "    print(\"a: \", a)\n",
    "    print(\"b: \", b)\n",
    "    \n",
    "    total = a+b\n",
    "    return total\n",
    "\n",
    "n = sum(6) # Here b=0 and a =6\n",
    "print(n)"
   ]
  },
  {
   "cell_type": "code",
   "execution_count": 101,
   "id": "95d7203c",
   "metadata": {},
   "outputs": [
    {
     "name": "stdout",
     "output_type": "stream",
     "text": [
      "a:  6\n",
      "b:  8\n",
      "14\n"
     ]
    }
   ],
   "source": [
    "#Default Arguments\n",
    "# When we pass both arguments\n",
    "def sum(a,b=0):\n",
    "\n",
    "    print(\"a: \", a)\n",
    "    print(\"b: \", b)\n",
    "    \n",
    "    total = a+b\n",
    "    return total\n",
    "\n",
    "n = sum(6,8) # Here b=8 and a =6\n",
    "print(n)"
   ]
  },
  {
   "cell_type": "markdown",
   "id": "a44e1bfe",
   "metadata": {},
   "source": [
    "#### Slide 13 -- Documentation String\n"
   ]
  },
  {
   "cell_type": "code",
   "execution_count": 33,
   "id": "67c4bd5c",
   "metadata": {},
   "outputs": [
    {
     "name": "stdout",
     "output_type": "stream",
     "text": [
      "a:  6\n",
      "b:  8\n",
      "14\n"
     ]
    }
   ],
   "source": [
    "# This can be multiline strings.\n",
    "# It's documentation to explain the call of the function on what function does ,expected input,output.\n",
    "# Inside ide(vs-code , pycharm), double quote thrice(\"\"\") and \n",
    "# it will suggest the template of docstrings for function.\n",
    "\n",
    "def sum(a,b=0):\n",
    "    \"\"\"\n",
    "    This function takes two arguments which are integers and it returns sum of them as output. \n",
    "\n",
    "    Returns:\n",
    "        sum : addition of numbers\n",
    "\n",
    "    \"\"\"\n",
    "    print(\"a: \", a)\n",
    "    print(\"b: \", b)\n",
    "    \n",
    "    total = a+b\n",
    "    return total\n",
    "\n",
    "n = sum(6,8) # Here b=8 and a =6\n",
    "print(n)"
   ]
  },
  {
   "cell_type": "code",
   "execution_count": 34,
   "id": "1de9e52f",
   "metadata": {},
   "outputs": [
    {
     "name": "stdout",
     "output_type": "stream",
     "text": [
      "Total inside function  11\n",
      "Total outside function  0\n"
     ]
    }
   ],
   "source": [
    "#Local vs Global variables\n",
    "\n",
    "total = 0 ## Global Variable\n",
    "\n",
    "def sum(a,b):\n",
    "    total = a+b ## local Variable\n",
    "    print(\"Total inside function \", total)\n",
    "    return total\n",
    "\n",
    "n = sum(b=5,a=6)\n",
    "print(\"Total outside function \", total)"
   ]
  },
  {
   "cell_type": "markdown",
   "id": "68ed76f9",
   "metadata": {},
   "source": [
    "#### Slide 14 -- Dictionaries"
   ]
  },
  {
   "cell_type": "code",
   "execution_count": 35,
   "id": "247aed49",
   "metadata": {},
   "outputs": [
    {
     "name": "stdout",
     "output_type": "stream",
     "text": [
      "Creating Dictionary: \n",
      "{'Name': 'Sample', 1: [1, 2, 3, 4]}\n",
      "Accessing a element using key:\n",
      "Sample\n",
      "Accessing a element using get:\n",
      "[1, 2, 3, 4]\n",
      "{1: 1, 2: 4, 3: 9, 4: 16, 5: 25}\n"
     ]
    }
   ],
   "source": [
    "# Creating a Dictionary\n",
    "\n",
    "Dict = {'Name': 'Sample', 1: [1, 2, 3, 4]}\n",
    "print(\"Creating Dictionary: \")\n",
    "print(Dict)\n",
    "\n",
    "# accessing a element using key\n",
    "print(\"Accessing a element using key:\")\n",
    "print(Dict['Name'])\n",
    "\n",
    "# accessing a element using get() method\n",
    "print(\"Accessing a element using get:\")\n",
    "print(Dict.get(1))\n",
    "\n",
    "# creation using Dictionary comprehension\n",
    "myDict = {x: x**2 for x in [1,2,3,4,5]}\n",
    "print(myDict)"
   ]
  },
  {
   "cell_type": "code",
   "execution_count": 105,
   "id": "7437f0ad",
   "metadata": {},
   "outputs": [
    {
     "name": "stdout",
     "output_type": "stream",
     "text": [
      "{1: [1, 2, 3, 4]}\n"
     ]
    }
   ],
   "source": [
    "# To delete element\n",
    "\n",
    "Dict = {'Name': 'Sample', 1: [1, 2, 3, 4]}\n",
    "del(Dict['Name'])\n",
    "print(Dict)\n",
    "\n",
    "#To delete everything in dictionary -- Dict.clear() "
   ]
  },
  {
   "cell_type": "code",
   "execution_count": 37,
   "id": "410b7ab4",
   "metadata": {},
   "outputs": [
    {
     "name": "stdout",
     "output_type": "stream",
     "text": [
      "key:  Name value : Sample\n",
      "key:  1 value : [1, 2, 3, 4]\n"
     ]
    }
   ],
   "source": [
    "# To print all the elements in dict , use for loop\n",
    "\n",
    "Dict = {'Name': 'Sample', 1: [1, 2, 3, 4]}\n",
    "\n",
    "for key in Dict:\n",
    "    print(\"key: \",key , \"value :\", Dict[key])"
   ]
  },
  {
   "cell_type": "code",
   "execution_count": 38,
   "id": "5996fe21",
   "metadata": {},
   "outputs": [
    {
     "name": "stdout",
     "output_type": "stream",
     "text": [
      "True\n"
     ]
    }
   ],
   "source": [
    "#To check if any key is present in dictionary - use \"in\" operator\n",
    "\n",
    "Dict = {'Name': 'Sample', 1: [1, 2, 3, 4]}\n",
    "print('Name' in Dict)"
   ]
  },
  {
   "cell_type": "code",
   "execution_count": 39,
   "id": "4d84c1ea",
   "metadata": {},
   "outputs": [
    {
     "name": "stdout",
     "output_type": "stream",
     "text": [
      "key:  Name value : Sample\n",
      "key:  1 value : [1, 2, 3, 4]\n"
     ]
    }
   ],
   "source": [
    "# We also can get the key-value pairs using tuples\n",
    "# Dict.items() will create tuple of key:value pair -- ('Name','Sample')\n",
    "\n",
    "Dict = {'Name': 'Sample', 1: [1, 2, 3, 4]}\n",
    "\n",
    "for k,v in Dict.items():\n",
    "    print(\"key: \",k , \"value :\", v)"
   ]
  },
  {
   "cell_type": "markdown",
   "id": "4c97c398",
   "metadata": {},
   "source": [
    "#### Slide 15 -- Tuples"
   ]
  },
  {
   "cell_type": "code",
   "execution_count": 40,
   "id": "a2891348",
   "metadata": {},
   "outputs": [
    {
     "name": "stdout",
     "output_type": "stream",
     "text": [
      "\n",
      "Tuple with the use of String: \n",
      "('Nvidia', 'Graphics')\n",
      "\n",
      "Tuple using List: \n",
      "(1, 2, 4, 5, 6)\n",
      "First element of tuple\n",
      "1\n",
      "\n",
      "Last element of tuple\n",
      "6\n",
      "\n",
      "Third last element of tuple\n",
      "4\n"
     ]
    }
   ],
   "source": [
    "# Creating a Tuple with the use of Strings\n",
    "Tuple = ('Nvidia', 'Graphics')\n",
    "print(\"\\nTuple with the use of String: \")\n",
    "print(Tuple)\n",
    "\n",
    "# Creating a Tuple with the use of list\n",
    "list1 = [1, 2, 4, 5, 6]\n",
    "print(\"\\nTuple using List: \")\n",
    "Tuple = tuple(list1)\n",
    "print(Tuple)\n",
    "\n",
    "# Accessing element using indexing\n",
    "print(\"First element of tuple\")\n",
    "print(Tuple[0])\n",
    "\n",
    "# Accessing element from last\n",
    "# negative indexing\n",
    "print(\"\\nLast element of tuple\")\n",
    "print(Tuple[-1])\n",
    "\n",
    "print(\"\\nThird last element of tuple\")\n",
    "print(Tuple[-3])"
   ]
  },
  {
   "cell_type": "markdown",
   "id": "11fe1f0f",
   "metadata": {},
   "source": [
    "#### Slide 16 -- Set"
   ]
  },
  {
   "cell_type": "code",
   "execution_count": 41,
   "id": "9a1dfa04",
   "metadata": {
    "scrolled": true
   },
   "outputs": [
    {
     "name": "stdout",
     "output_type": "stream",
     "text": [
      "\n",
      "Set with the use of Mixed Values\n",
      "{1, 2, 4, 6, 'Graphics', 'Nvidia'}\n",
      "\n",
      "Elements of set: \n",
      "1 2 4 6 Graphics Nvidia \n",
      "True\n"
     ]
    }
   ],
   "source": [
    "# Creating a Set with a mixed type of values\n",
    "# (Having numbers and strings)\n",
    "\n",
    "Set = set([1, 2, 'Nvidia', 4, 'Graphics', 6, 'Nvidia'])\n",
    "print(\"\\nSet with the use of Mixed Values\")\n",
    "print(Set)\n",
    "\n",
    "# Accessing element using for loop\n",
    "print(\"\\nElements of set: \")\n",
    "for i in Set:\n",
    "    print(i, end =\" \")\n",
    "print()\n",
    "\n",
    "# Checking the element using in keyword\n",
    "print(\"Nvidia\" in Set)"
   ]
  },
  {
   "cell_type": "markdown",
   "id": "79c187ed",
   "metadata": {},
   "source": [
    "#### Slide 17 -- Modules"
   ]
  },
  {
   "cell_type": "code",
   "execution_count": 106,
   "id": "b8bbdf8a",
   "metadata": {},
   "outputs": [
    {
     "name": "stdout",
     "output_type": "stream",
     "text": [
      "    January 2016\n",
      "Mo Tu We Th Fr Sa Su\n",
      "             1  2  3\n",
      " 4  5  6  7  8  9 10\n",
      "11 12 13 14 15 16 17\n",
      "18 19 20 21 22 23 24\n",
      "25 26 27 28 29 30 31\n",
      "\n"
     ]
    },
    {
     "data": {
      "text/plain": [
       "True"
      ]
     },
     "execution_count": 106,
     "metadata": {},
     "output_type": "execute_result"
    }
   ],
   "source": [
    "import calendar\n",
    "# print(dir(calendar))\n",
    "# print()\n",
    "cal = calendar.month(2016,1)\n",
    "\n",
    "print(cal)\n",
    "calendar.isleap(2016)"
   ]
  },
  {
   "cell_type": "markdown",
   "id": "955be011",
   "metadata": {},
   "source": [
    "#### Slide 18 -- Reading Writing to files\n"
   ]
  },
  {
   "cell_type": "code",
   "execution_count": null,
   "id": "6b108238",
   "metadata": {},
   "outputs": [],
   "source": [
    "# r - read only\n",
    "# w - write only\n",
    "# r+ - both read and write\n",
    "# w+ - both read and write and if file doesnt exist , it will create new file. If exists, then overwrites\n",
    "# a - Open file in append mode . Original content will not be overwritten.\n",
    "\n",
    "# If we dont want to use open - close file statements , we can use with statement.\n",
    "\n",
    "\n",
    "\n",
    "f=open(r\"C:\\Users\\rkapse\\Desktop\\NCG Training Material - August 2022\\Python Sessions\\Python Presentation Code Files\\Read_Write_Files\\read_file.txt\",\"r\")\n",
    "\n",
    "f_out = open(r\"C:\\Users\\rkapse\\Desktop\\NCG Training Material - August 2022\\Python Sessions\\Python Presentation Code Files\\Read_Write_Files\\output_file.txt\",\"w\")\n",
    "\n",
    "for line in f:\n",
    "    words = line.split(' ') # This will create a list by taking all the words in the line.\n",
    "    print(words)\n",
    "\n",
    "    f_out.write(\"wordcount: \"+ str(len(words)) + line)\n",
    "\n",
    "f.close()\n",
    "f_out.close()\n",
    "\n",
    "# Refer : Wheather to use '\\' or '\\\\' in path is discussed here :\n",
    "# https://stackoverflow.com/questions/1347791/unicode-error-unicodeescape-codec-cant-decode-bytes-cannot-open-text-file"
   ]
  },
  {
   "cell_type": "code",
   "execution_count": null,
   "id": "8c294861",
   "metadata": {},
   "outputs": [],
   "source": [
    "# For long code files, you might miss on closing the files and so with statements are used to auto close the files.\n",
    "\n",
    "with open(r\"C:\\Users\\rkapse\\Desktop\\NCG Training Material - August 2022\\Python Sessions\\Python Presentation Code Files\\Read_Write_Files\\output_file.text\",\"r\") as f:\n",
    "    print(f.read())\n",
    "\n",
    "print(f.closed) # This flag tell that file is open or closed."
   ]
  },
  {
   "cell_type": "markdown",
   "id": "1f0aff23",
   "metadata": {},
   "source": [
    "#### Slide 19 --Classes and Objects\n"
   ]
  },
  {
   "cell_type": "code",
   "execution_count": 43,
   "id": "1768a7b3",
   "metadata": {},
   "outputs": [
    {
     "name": "stdout",
     "output_type": "stream",
     "text": [
      "hondacity is of color red\n",
      "hondacity has chat bot who answers the questions !\n",
      "Astor is of color yellow\n",
      "Astor has chat bot who answers the questions !\n"
     ]
    }
   ],
   "source": [
    "'''\n",
    "init is special function , it initializes properties of class.\n",
    "\n",
    "The self parameter is a reference to the current instance of the class, and is used to access variables that belongs to the class.\n",
    "so when referring to 'self' you are refering to values in a class.\n",
    "\n",
    "So 'self.color = 'color' is just adding a variable in the class which has the same value as 'color'.\n",
    "\n",
    "'''\n",
    "#Creating class \n",
    "class Car:\n",
    "    # Class has different methods as below  init, drive, speaks etc and properties are name and color\n",
    "    def __init__(self,name,color):\n",
    "        self.name = name\n",
    "        self.color = color\n",
    "\n",
    "    def drive(self):\n",
    "        if self.color == \"red\":\n",
    "            print(self.name, \"is of color red\")\n",
    "        elif self.color == \"yellow\":\n",
    "            print(self.name, \"is of color yellow\")\n",
    "\n",
    "    def speaks(self):\n",
    "        print(self.name, \"has chat bot who answers the questions !\")\n",
    "\n",
    "\n",
    "#creating instances of class / creating objects\n",
    "#Self is always passed so no need to pass seperately. Pass only two arguments\n",
    "honda = Car(\"hondacity\", \"red\")\n",
    "\n",
    "honda.drive()\n",
    "honda.speaks()\n",
    "\n",
    "MG = Car(\"Astor\", \"yellow\")\n",
    "\n",
    "MG.drive()\n",
    "MG.speaks()"
   ]
  },
  {
   "cell_type": "markdown",
   "id": "ded9b670",
   "metadata": {},
   "source": [
    "#### Slide 20 -- Inheritance"
   ]
  },
  {
   "cell_type": "code",
   "execution_count": 45,
   "id": "83e8c33c",
   "metadata": {},
   "outputs": [
    {
     "name": "stdout",
     "output_type": "stream",
     "text": [
      "NCG False\n",
      "Training True\n",
      "True\n",
      "True\n"
     ]
    }
   ],
   "source": [
    "# Benefits of Inheritance -- Code Reuse , Extensibility , Readability\n",
    "## isinstance(object,class) method , issubclass(DerivedClass, MainClass) method\n",
    "\n",
    "class Person(object):\n",
    "\n",
    "# Constructor\n",
    "    def __init__(self, name):\n",
    "        self.name = name\n",
    "\n",
    "# To get name method\n",
    "    def getName(self):\n",
    "        return self.name\n",
    "\n",
    "# To check if this person is an employee\n",
    "    def isEmployee(self):\n",
    "        return False\n",
    "\n",
    "\n",
    "# Inherited or Subclass (Note Person in bracket)\n",
    "class Employee(Person):\n",
    "\n",
    "# Here we return true\n",
    "    def isEmployee(self):\n",
    "        return True\n",
    "\n",
    "# Driver code\n",
    "emp = Person(\"NCG\") # An Object of Person\n",
    "print(emp.getName(), emp.isEmployee())\n",
    "\n",
    "emp2 = Employee(\"Training\") # An Object of Employee\n",
    "print(emp2.getName(), emp2.isEmployee())\n",
    "\n",
    "\n",
    "#isinstance and issubclass\n",
    "print(isinstance(emp,Person))\n",
    "print(isinstance(emp2,Employee))\n"
   ]
  },
  {
   "cell_type": "markdown",
   "id": "a08823d2",
   "metadata": {},
   "source": [
    "#### Slide 21/22 -- Exceptions/User Defined Exceptions\n"
   ]
  },
  {
   "cell_type": "code",
   "execution_count": 108,
   "id": "0587f574",
   "metadata": {},
   "outputs": [
    {
     "name": "stdout",
     "output_type": "stream",
     "text": [
      "Enter the number1: 2\n",
      "Enter the numner2: 0\n",
      "Exception occured:  division by zero\n",
      "Division is : None\n"
     ]
    }
   ],
   "source": [
    "x = input(\"Enter the number1: \")\n",
    "y = input(\"Enter the numner2: \")\n",
    "\n",
    "try:\n",
    "    z = int(x) / int(y)\n",
    "    \n",
    "except Exception as e:\n",
    "    print(\"Exception occured: \",e)\n",
    "    z = None\n",
    "\n",
    "print(\"Division is :\", z)"
   ]
  },
  {
   "cell_type": "code",
   "execution_count": 48,
   "id": "b0d57c38",
   "metadata": {},
   "outputs": [
    {
     "name": "stdout",
     "output_type": "stream",
     "text": [
      "Yeah ! Your answer is : 1\n",
      "This is always executed\n",
      "Sorry ! You are dividing by zero \n",
      "This is always executed\n"
     ]
    }
   ],
   "source": [
    "def divide(x, y):\n",
    "    try:\n",
    "        # Floor Division : Gives only Fractional Part as Answer\n",
    "        result = x // y\n",
    "    except ZeroDivisionError:\n",
    "        print(\"Sorry ! You are dividing by zero \")\n",
    "    else:\n",
    "        print(\"Yeah ! Your answer is :\", result)\n",
    "    finally:\n",
    "        # this block is always executed regardless of exception generation.\n",
    "        print('This is always executed')\n",
    "\n",
    "# Look at parameters and note the working of Program\n",
    "divide(3, 2)\n",
    "divide(3, 0)"
   ]
  },
  {
   "cell_type": "code",
   "execution_count": null,
   "id": "55a4567f",
   "metadata": {},
   "outputs": [],
   "source": [
    "# User defined exceptions\n",
    "# User defined exceptions are derived from base class ' Exception'\n",
    "\n",
    "class Accident(Exception):\n",
    "    def __init__(self,msg):\n",
    "        self.msg = msg\n",
    "        \n",
    "    def print_exception(self):\n",
    "        print(\"User defined exception: \",self.msg)\n",
    "        \n",
    "        \n",
    "try:\n",
    "    raise Accident('crash between two cars')\n",
    "except Accident as e:\n",
    "    e.print_exception()"
   ]
  },
  {
   "cell_type": "markdown",
   "id": "913e57f9",
   "metadata": {},
   "source": [
    "#### Slide 23 -- Iterators"
   ]
  },
  {
   "cell_type": "code",
   "execution_count": 58,
   "id": "5372c208",
   "metadata": {},
   "outputs": [
    {
     "name": "stdout",
     "output_type": "stream",
     "text": [
      "1\n",
      "2\n"
     ]
    }
   ],
   "source": [
    "# Create an iterator that returns numbers, \n",
    "# starting with 1, and each sequence will increase by one \n",
    "# (returning 1,2,3,4,5 etc.)\n",
    "\n",
    "class MyNumbers:\n",
    "  def __iter__(self):\n",
    "    self.a = 1\n",
    "    return self\n",
    "\n",
    "  def __next__(self):\n",
    "    x = self.a\n",
    "    self.a += 1\n",
    "    return x\n",
    "\n",
    "myclass = MyNumbers()\n",
    "myiter = iter(myclass)\n",
    "\n",
    "print(next(myiter))\n",
    "print(next(myiter))\n",
    "# print(next(myiter))\n",
    "# print(next(myiter))\n",
    "# print(next(myiter))\n",
    "# print(next(myiter))"
   ]
  },
  {
   "cell_type": "code",
   "execution_count": 60,
   "id": "12d9d823",
   "metadata": {},
   "outputs": [
    {
     "name": "stdout",
     "output_type": "stream",
     "text": [
      "<list_iterator object at 0x000001E091FC1400>\n",
      "All\n",
      "NCGs\n",
      "are\n",
      "super\n",
      "talented\n"
     ]
    },
    {
     "ename": "StopIteration",
     "evalue": "",
     "output_type": "error",
     "traceback": [
      "\u001b[1;31m---------------------------------------------------------------------------\u001b[0m",
      "\u001b[1;31mStopIteration\u001b[0m                             Traceback (most recent call last)",
      "\u001b[1;32m<ipython-input-60-b00d9a553b5f>\u001b[0m in \u001b[0;36m<module>\u001b[1;34m\u001b[0m\n\u001b[0;32m     12\u001b[0m \u001b[0mprint\u001b[0m\u001b[1;33m(\u001b[0m\u001b[0mnext\u001b[0m\u001b[1;33m(\u001b[0m\u001b[0miterator\u001b[0m\u001b[1;33m)\u001b[0m\u001b[1;33m)\u001b[0m\u001b[1;33m\u001b[0m\u001b[1;33m\u001b[0m\u001b[0m\n\u001b[0;32m     13\u001b[0m \u001b[0mprint\u001b[0m\u001b[1;33m(\u001b[0m\u001b[0mnext\u001b[0m\u001b[1;33m(\u001b[0m\u001b[0miterator\u001b[0m\u001b[1;33m)\u001b[0m\u001b[1;33m)\u001b[0m\u001b[1;33m\u001b[0m\u001b[1;33m\u001b[0m\u001b[0m\n\u001b[1;32m---> 14\u001b[1;33m \u001b[0mprint\u001b[0m\u001b[1;33m(\u001b[0m\u001b[0mnext\u001b[0m\u001b[1;33m(\u001b[0m\u001b[0miterator\u001b[0m\u001b[1;33m)\u001b[0m\u001b[1;33m)\u001b[0m\u001b[1;33m\u001b[0m\u001b[1;33m\u001b[0m\u001b[0m\n\u001b[0m",
      "\u001b[1;31mStopIteration\u001b[0m: "
     ]
    }
   ],
   "source": [
    "#Once all elements are printed ,it will show StopIteration Error.\n",
    "list1 = [\"All\",\"NCGs\",\"are\",\"super\",\"talented\"]\n",
    "\n",
    "#print(dir(list1))\n",
    "\n",
    "iterator = iter(list1)\n",
    "print(iterator)\n",
    "\n",
    "print(next(iterator))\n",
    "print(next(iterator))\n",
    "print(next(iterator))\n",
    "print(next(iterator))\n",
    "print(next(iterator))\n",
    "print(next(iterator))"
   ]
  },
  {
   "cell_type": "markdown",
   "id": "c0b9bb79",
   "metadata": {},
   "source": [
    "#### Slide 24 -- Generators\n"
   ]
  },
  {
   "cell_type": "code",
   "execution_count": 61,
   "id": "ecb99d95",
   "metadata": {},
   "outputs": [
    {
     "name": "stdout",
     "output_type": "stream",
     "text": [
      "0\n",
      "1\n",
      "[2, 3, 4, 5, 6, 7, 8, 9]\n"
     ]
    }
   ],
   "source": [
    "#Generators       \n",
    "\n",
    "def count_to_ten_generator():\n",
    "    \n",
    "    for number in range(10):\n",
    "        yield number\n",
    "    \n",
    "generator_object = count_to_ten_generator()\n",
    "\n",
    "first_number = next(generator_object)\n",
    "second_number = next(generator_object)\n",
    "\n",
    "print(first_number)\n",
    "print(second_number)\n",
    "\n",
    "list_or_the_rest = list(generator_object)\n",
    "print(list_or_the_rest)"
   ]
  },
  {
   "cell_type": "code",
   "execution_count": 62,
   "id": "c1318a89",
   "metadata": {},
   "outputs": [
    {
     "name": "stdout",
     "output_type": "stream",
     "text": [
      "<generator object sample_generator at 0x000001E091FB0580>\n",
      "nvidia\n",
      "graphics\n"
     ]
    },
    {
     "ename": "StopIteration",
     "evalue": "",
     "output_type": "error",
     "traceback": [
      "\u001b[1;31m---------------------------------------------------------------------------\u001b[0m",
      "\u001b[1;31mStopIteration\u001b[0m                             Traceback (most recent call last)",
      "\u001b[1;32m<ipython-input-62-842f4f52fd9b>\u001b[0m in \u001b[0;36m<module>\u001b[1;34m\u001b[0m\n\u001b[0;32m      8\u001b[0m \u001b[0mprint\u001b[0m\u001b[1;33m(\u001b[0m\u001b[0mnext\u001b[0m\u001b[1;33m(\u001b[0m\u001b[0mitr\u001b[0m\u001b[1;33m)\u001b[0m\u001b[1;33m)\u001b[0m\u001b[1;33m\u001b[0m\u001b[1;33m\u001b[0m\u001b[0m\n\u001b[0;32m      9\u001b[0m \u001b[0mprint\u001b[0m\u001b[1;33m(\u001b[0m\u001b[0mnext\u001b[0m\u001b[1;33m(\u001b[0m\u001b[0mitr\u001b[0m\u001b[1;33m)\u001b[0m\u001b[1;33m)\u001b[0m\u001b[1;33m\u001b[0m\u001b[1;33m\u001b[0m\u001b[0m\n\u001b[1;32m---> 10\u001b[1;33m \u001b[0mprint\u001b[0m\u001b[1;33m(\u001b[0m\u001b[0mnext\u001b[0m\u001b[1;33m(\u001b[0m\u001b[0mitr\u001b[0m\u001b[1;33m)\u001b[0m\u001b[1;33m)\u001b[0m\u001b[1;33m\u001b[0m\u001b[1;33m\u001b[0m\u001b[0m\n\u001b[0m",
      "\u001b[1;31mStopIteration\u001b[0m: "
     ]
    }
   ],
   "source": [
    "def sample_generator():\n",
    "    yield \"nvidia\"\n",
    "    yield \"graphics\"\n",
    "    \n",
    "itr =  sample_generator()\n",
    "print(itr)\n",
    "\n",
    "print(next(itr))\n",
    "print(next(itr))\n",
    "print(next(itr))"
   ]
  },
  {
   "cell_type": "code",
   "execution_count": 64,
   "id": "1f88d073",
   "metadata": {},
   "outputs": [
    {
     "name": "stdout",
     "output_type": "stream",
     "text": [
      "0\n",
      "1\n",
      "1\n",
      "2\n",
      "3\n",
      "5\n",
      "8\n",
      "13\n",
      "21\n",
      "34\n"
     ]
    }
   ],
   "source": [
    "# # Fibonacci  Series using Generators -- 0,1,1,2,4,6,10,16 ...\n",
    "\n",
    "def fib():\n",
    "    a,b=0,1\n",
    "    \n",
    "    while True:\n",
    "        yield a\n",
    "        a,b = b,a+b\n",
    "        \n",
    "for f in fib():\n",
    "    if f>50:\n",
    "        break\n",
    "        \n",
    "    print(f)\n",
    "        "
   ]
  },
  {
   "cell_type": "markdown",
   "id": "0e1739f1",
   "metadata": {},
   "source": [
    "#### Slide 25 --List , Set and Dictionary Comprehensions\n"
   ]
  },
  {
   "cell_type": "code",
   "execution_count": 65,
   "id": "767a1b21",
   "metadata": {},
   "outputs": [
    {
     "name": "stdout",
     "output_type": "stream",
     "text": [
      "{2, 4, 6}\n",
      "[2, 4, 4, 6, 6, 6]\n"
     ]
    }
   ],
   "source": [
    "#Comprehensions\n",
    "\n",
    "#Print even numbers from list usinf list/set comprehensions.\n",
    "\n",
    "input_list = [1, 2, 3, 4, 4, 5, 6, 6, 6, 7, 7]\n",
    "\n",
    "set_using_comp = {var for var in input_list if var % 2 == 0}\n",
    "list_using_comp = [ var for var in input_list if var % 2 == 0]\n",
    "\n",
    "print(set_using_comp)\n",
    "print(list_using_comp)"
   ]
  },
  {
   "cell_type": "code",
   "execution_count": 66,
   "id": "02244828",
   "metadata": {},
   "outputs": [
    {
     "name": "stdout",
     "output_type": "stream",
     "text": [
      "Output Dictionary using for loop: {1: 1, 3: 27, 5: 125, 7: 343}\n"
     ]
    }
   ],
   "source": [
    "# Without Dict comprehension\n",
    "# Print number as key and value as its cube if number is odd.\n",
    "input_list = [1, 2, 3, 4, 5, 6, 7]\n",
    "\n",
    "output_dict = {}\n",
    "\n",
    "# Using loop for constructing output dictionary\n",
    "for var in input_list:\n",
    "    if var % 2 != 0:\n",
    "        output_dict[var] = var**3\n",
    "\n",
    "print(\"Output Dictionary using for loop:\", output_dict )"
   ]
  },
  {
   "cell_type": "code",
   "execution_count": 68,
   "id": "9800405b",
   "metadata": {},
   "outputs": [
    {
     "name": "stdout",
     "output_type": "stream",
     "text": [
      "Output Dictionary using comprehension: {1: 1, 3: 27, 5: 125, 7: 343}\n"
     ]
    }
   ],
   "source": [
    "# Dict comprehension\n",
    "# Print number as key and value as its cube if number is odd.\n",
    "input_list = [1, 2, 3, 4, 5, 6, 7]\n",
    "\n",
    "dict_using_comp = {var:var ** 3 for var in input_list if var % 2 != 0}\n",
    "\n",
    "print(\"Output Dictionary using comprehension:\", dict_using_comp )"
   ]
  },
  {
   "cell_type": "markdown",
   "id": "910f70a5",
   "metadata": {},
   "source": [
    "#### Slide 26/27 --Processing Command Line Arguments using argparse module\n"
   ]
  },
  {
   "cell_type": "code",
   "execution_count": null,
   "id": "cf5a7f43",
   "metadata": {},
   "outputs": [],
   "source": [
    "#Processing Command Line Arguments using argparse module\n",
    "\n",
    "# -h is default argument.\n",
    "# Arguments - Positional , Optional arguments\n",
    "\n",
    "# Problem Statement - Take two numbers as input and perform operations\n",
    "\n",
    "import argparse\n",
    "\n",
    "\n",
    "if __name__ == \"__main__\":\n",
    "    \n",
    "    parser = argparse.ArgumentParser()\n",
    "    \n",
    "    parser.add_argument(\"number1\", help=\"first number\")\n",
    "    parser.add_argument(\"number2\", help=\"second number\")\n",
    "    parser.add_argument(\"operation\", help=\"operation\")\n",
    "    \n",
    "    \n",
    "    args = parser.parse_args()\n",
    "    \n",
    "    # Below checks if arguments passed are correctly assigned.\n",
    "    print(args.number1)\n",
    "    print(args.number2)\n",
    "    print(args.operation)\n",
    "    \n",
    "    n1 = int(args.number1)\n",
    "    n2 = int(args.number2)\n",
    "    result = None\n",
    "    if args.operation == \"add\":\n",
    "        result = n1+n2\n",
    "    elif args.operation == \"subtract\":\n",
    "        result = n1-n2\n",
    "    elif args.operation == \"multiply\":\n",
    "        result = n1*n2\n",
    "        \n",
    "    print(result)"
   ]
  },
  {
   "cell_type": "code",
   "execution_count": null,
   "id": "db1e4326",
   "metadata": {},
   "outputs": [],
   "source": [
    "# Arguments - Optional arguments\n",
    "import argparse\n",
    "\n",
    "if __name__ == \"__main__\":\n",
    "    \n",
    "    parser = argparse.ArgumentParser()\n",
    "    \n",
    "    # Below are positional arguments\n",
    "    parser.add_argument(\"--number1\", help=\"first number\")\n",
    "    parser.add_argument(\"--number2\", help=\"second number\")\n",
    "\n",
    "    # we also can restrict choices of arguments as\n",
    "    parser.add_argument(\"--operation\", help=\"operation\", choices=[\"add\",\"substract\",\"multiply\"])\n",
    "    \n",
    "\n",
    "    args = parser.parse_args()\n",
    "    \n",
    "    # Below checks if arguments passed are correctly assigned.\n",
    "    print(args.number1)\n",
    "    print(args.number2)\n",
    "    print(args.operation)\n",
    "    \n",
    "    n1 = int(args.number1)\n",
    "    n2 = int(args.number2)\n",
    "    result = None\n",
    "    if args.operation == \"add\":\n",
    "        result = n1+n2\n",
    "    elif args.operation == \"subtract\":\n",
    "        result = n1-n2\n",
    "    elif args.operation == \"multiply\":\n",
    "        result = n1*n2\n",
    "    else:\n",
    "        print(\"unsupported operation\")\n",
    "        \n",
    "    print(result)"
   ]
  },
  {
   "cell_type": "markdown",
   "id": "41bc96d6",
   "metadata": {},
   "source": [
    "#### Slide 28 -- Decorators"
   ]
  },
  {
   "cell_type": "code",
   "execution_count": 69,
   "id": "8f6853a9",
   "metadata": {},
   "outputs": [
    {
     "name": "stdout",
     "output_type": "stream",
     "text": [
      "calc_square took 2.0020008087158203 mil sec\n",
      "cal_cube took 0.99945068359375 mil sec\n"
     ]
    }
   ],
   "source": [
    "## Decorators\n",
    "\n",
    "# Generally , we would have added time calculation codes in actual functions\n",
    "# and that will make code repetations and code complexity. \n",
    "# Hence we create seperate decorator function and use it before function.\n",
    "\n",
    "import time\n",
    "\n",
    "def time_it(func):\n",
    "    def wrapper(*args,**kwargs):\n",
    "        start =  time.time()\n",
    "        result = func(*args,**kwargs)\n",
    "        end = time.time()\n",
    "        print(func.__name__ + \" took \" + str((end-start)*1000) + \" mil sec\")\n",
    "        return result\n",
    "    return wrapper\n",
    "\n",
    "@time_it\n",
    "def calc_square(numbers):\n",
    "    result = []\n",
    "    for number in numbers:\n",
    "        result.append(number*number)\n",
    "    return result\n",
    "\n",
    "@time_it\n",
    "def cal_cube(numbers):\n",
    "    result = []\n",
    "    for number in numbers:\n",
    "        result.append(number*number*number)\n",
    "    return result\n",
    "\n",
    "array = range(1,10000)\n",
    "obj1 = calc_square(array)\n",
    "obj2 = cal_cube(array)\n",
    "        "
   ]
  },
  {
   "cell_type": "markdown",
   "id": "0502c3c4",
   "metadata": {},
   "source": [
    "#### Slide 29/30/31 -- Multi-threading , Multiprocessing\n"
   ]
  },
  {
   "cell_type": "markdown",
   "id": "a23dc1f1",
   "metadata": {},
   "source": [
    "Multi-threading\n",
    "\n",
    "Multithreading is a way of achieving multitasking. In multithreading, the concept of threads is used.\n",
    "\n",
    "In computing, a process is an instance of a computer program that is being executed. \n",
    "\n",
    "    Any process has 3 basic components:\n",
    "    An executable program.\n",
    "    The associated data needed by the program (variables, work space, buffers, etc.)\n",
    "    The execution context of the program (State of process)\n",
    "\n",
    "A thread is an entity within a process that can be scheduled for execution.\n",
    "Also, it is the smallest unit of processing that can be performed in an OS (Operating System).\n",
    "\n",
    "In simple words, a thread is a sequence of such instructions within a program that can be executed independently of other code.\n",
    "\n",
    "For simplicity, you can assume that a thread is simply a subset of a process!"
   ]
  },
  {
   "cell_type": "markdown",
   "id": "1f4dd4ca",
   "metadata": {},
   "source": [
    "A thread contains all this information in a Thread Control Block (TCB):\n",
    "    \n",
    "    Thread Identifier: Unique id (TID) is assigned to every new thread\n",
    "    Stack pointer: Points to thread’s stack in the process. Stack contains the local variables under thread’s scope.\n",
    "    Program counter: a register which stores the address of the instruction currently being executed by thread.\n",
    "    Thread state: can be running, ready, waiting, start or done.\n",
    "    Thread’s register set: registers assigned to thread for computations.\n",
    "    Parent process Pointer: A pointer to the Process control block (PCB) of the process that the thread lives on."
   ]
  },
  {
   "cell_type": "markdown",
   "id": "cfab1ac6",
   "metadata": {},
   "source": [
    "Multithreading\n",
    "    Each thread contains its own register set and local variables (stored in stack)\n",
    "    All thread of a process share global variables (stored in heap) and the program code."
   ]
  },
  {
   "cell_type": "markdown",
   "id": "39c3eb36",
   "metadata": {},
   "source": [
    "Multithreading is defined as the ability of a processor to execute multiple threads concurrently.\n",
    "\n",
    "    In a simple, single-core CPU, it is achieved using frequent switching between threads. \n",
    "    This is termed as context switching\n",
    "    \n",
    "    In context switching, the state of a thread is saved and state of another thread is loaded \n",
    "    whenever any interrupt (due to I/O or manually set) takes place.\n",
    "    \n",
    "    Context switching takes place so frequently that all the threads appear to be running parallelly \n",
    "    (this is termed as multitasking).    "
   ]
  },
  {
   "cell_type": "code",
   "execution_count": null,
   "id": "a6fc8f3a",
   "metadata": {},
   "outputs": [],
   "source": [
    "# Python program to illustrate the concept of threading\n",
    "# importing the threading module\n",
    "import threading\n",
    "\n",
    "def print_cube(num):\n",
    "    \"\"\"\n",
    "    function to print cube of given num\n",
    "    \"\"\"\n",
    "    print(\"Cube: {}\".format(num * num * num))\n",
    "\n",
    "def print_square(num):\n",
    "    \"\"\"\n",
    "    function to print square of given num\n",
    "    \"\"\"\n",
    "    print(\"Square: {}\".format(num * num))\n",
    "\n",
    "if __name__ == \"__main__\":\n",
    "    # creating thread\n",
    "    t1 = threading.Thread(target=print_square, args=(10,))\n",
    "    t2 = threading.Thread(target=print_cube, args=(10,))\n",
    "\n",
    "    # starting thread 1\n",
    "    t1.start()\n",
    "    # starting thread 2\n",
    "    t2.start()\n",
    "\n",
    "    # wait until thread 1 is completely executed\n",
    "    t1.join()\n",
    "    # wait until thread 2 is completely executed\n",
    "    t2.join()\n",
    "\n",
    "    # both threads completely executed\n",
    "    print(\"Done!\")"
   ]
  },
  {
   "cell_type": "code",
   "execution_count": null,
   "id": "c2cbf03e",
   "metadata": {},
   "outputs": [],
   "source": [
    "# importing the multiprocessing module\n",
    "import multiprocessing\n",
    "\n",
    "def print_cube(num):\n",
    "    \"\"\"\n",
    "    function to print cube of given num\n",
    "    \"\"\"\n",
    "    print(\"Cube: {}\".format(num * num * num))\n",
    "\n",
    "def print_square(num):\n",
    "    \"\"\"\n",
    "    function to print square of given num\n",
    "    \"\"\"\n",
    "    print(\"Square: {}\".format(num * num))\n",
    "\n",
    "if __name__ == \"__main__\":\n",
    "    # creating processes\n",
    "    p1 = multiprocessing.Process(target=print_square, args=(10, ))\n",
    "    p2 = multiprocessing.Process(target=print_cube, args=(10, ))\n",
    "\n",
    "    # starting process 1\n",
    "    p1.start()\n",
    "    # starting process 2\n",
    "    p2.start()\n",
    "\n",
    "    # wait until process 1 is finished\n",
    "    p1.join()\n",
    "    # wait until process 2 is finished\n",
    "    p2.join()\n",
    "\n",
    "    # both processes finished\n",
    "    print(\"Done!\")\n"
   ]
  },
  {
   "cell_type": "markdown",
   "id": "e1eee7e6",
   "metadata": {},
   "source": [
    "#### Slide 32 : Testing in python : Pytest"
   ]
  },
  {
   "cell_type": "code",
   "execution_count": null,
   "id": "97a764c9",
   "metadata": {},
   "outputs": [],
   "source": [
    "To run pytest file:\n",
    "    \n",
    "    Go to location ( make sure you have already installed pytest module -- pip install pytest)\n",
    "    \n",
    "    Go to folder where files are created \n",
    "    type any of below commands :\n",
    "        1. python -m pytest   -- it look for any file with \"test_\" prefix of file name\n",
    "        2. py.test or py.test -v or pytest -v -- v is verbose to get more details\n",
    "        \n",
    "        \n",
    "## Let's see example in vs-code."
   ]
  },
  {
   "cell_type": "code",
   "execution_count": null,
   "id": "077b3519",
   "metadata": {},
   "outputs": [],
   "source": [
    "How to :\n",
    "    Skip Test\n",
    "    Selectively run with their names\n",
    "    Custom markers\n",
    "    \n",
    "    \n",
    "Command to check reason of skipped test  on console :\n",
    "    pytest -v -rxs\n",
    "    \n",
    "To run test with their names  , use below command :\n",
    "    pytest -k name/word_in_test_case -v\n",
    "    \n",
    "To run test with custom markers created\n",
    "    pytest -m windows/mac -v\n",
    "\n",
    "#https://www.tutorialspoint.com/pytest/index.htm\n",
    "#https://realpython.com/pytest-python-testing/\n",
    "#https://www.guru99.com/pytest-tutorial.html"
   ]
  },
  {
   "cell_type": "code",
   "execution_count": null,
   "id": "10b7ef35",
   "metadata": {},
   "outputs": [],
   "source": []
  },
  {
   "cell_type": "code",
   "execution_count": null,
   "id": "734951f9",
   "metadata": {},
   "outputs": [],
   "source": []
  },
  {
   "cell_type": "code",
   "execution_count": null,
   "id": "0c962bd0",
   "metadata": {},
   "outputs": [],
   "source": []
  },
  {
   "cell_type": "code",
   "execution_count": null,
   "id": "1b95b55b",
   "metadata": {},
   "outputs": [],
   "source": []
  },
  {
   "cell_type": "code",
   "execution_count": null,
   "id": "5f50ef33",
   "metadata": {},
   "outputs": [],
   "source": []
  },
  {
   "cell_type": "code",
   "execution_count": null,
   "id": "439bca66",
   "metadata": {},
   "outputs": [],
   "source": []
  },
  {
   "cell_type": "code",
   "execution_count": null,
   "id": "22386807",
   "metadata": {},
   "outputs": [],
   "source": []
  },
  {
   "cell_type": "code",
   "execution_count": null,
   "id": "2f0b7b3c",
   "metadata": {},
   "outputs": [],
   "source": []
  },
  {
   "cell_type": "code",
   "execution_count": null,
   "id": "cfdb9d49",
   "metadata": {},
   "outputs": [],
   "source": []
  }
 ],
 "metadata": {
  "kernelspec": {
   "display_name": "Python 3",
   "language": "python",
   "name": "python3"
  },
  "language_info": {
   "codemirror_mode": {
    "name": "ipython",
    "version": 3
   },
   "file_extension": ".py",
   "mimetype": "text/x-python",
   "name": "python",
   "nbconvert_exporter": "python",
   "pygments_lexer": "ipython3",
   "version": "3.8.8"
  }
 },
 "nbformat": 4,
 "nbformat_minor": 5
}
